{
 "cells": [
  {
   "cell_type": "code",
   "execution_count": 1,
   "metadata": {},
   "outputs": [],
   "source": [
    "import pandas as pd\n",
    "import time\n",
    "from datetime import datetime\n",
    "from alpha_vantage.timeseries import TimeSeries\n",
    "import random\n",
    "import urllib\n",
    "import sqlalchemy\n",
    "import matplotlib.pyplot as plt\n",
    "import sys\n",
    "\n",
    "position = {}\n",
    "remaining_cash = 1000000.00\n",
    "loss = 0\n",
    "win = 0\n",
    "total_valuation = 0    \n",
    "profit = 0"
   ]
  },
  {
   "cell_type": "code",
   "execution_count": 2,
   "metadata": {},
   "outputs": [],
   "source": [
    "params = urllib.parse.quote(\"DRIVER={ODBC Driver 13 for SQL Server};SERVER=DESKTOP-LSM7IMP\\SQLEXPRESS;DATABASE=StocksDMW;Trusted_Connection=yes\")\n",
    "engine = sqlalchemy.create_engine('mssql+pyodbc:///?odbc_connect=%s' % params)"
   ]
  },
  {
   "cell_type": "code",
   "execution_count": 3,
   "metadata": {},
   "outputs": [],
   "source": [
    "symbols = \"\"\"\n",
    "select distinct(name) from stockdatadaily\n",
    "\"\"\"\n",
    "symbol_list = pd.read_sql(symbols, engine)"
   ]
  },
  {
   "cell_type": "code",
   "execution_count": 4,
   "metadata": {},
   "outputs": [],
   "source": [
    "symbol_list = symbol_list['name'].tolist()"
   ]
  },
  {
   "cell_type": "code",
   "execution_count": 5,
   "metadata": {},
   "outputs": [],
   "source": [
    "symbol_list_one = symbol_list[:100]"
   ]
  },
  {
   "cell_type": "code",
   "execution_count": 6,
   "metadata": {},
   "outputs": [
    {
     "name": "stdout",
     "output_type": "stream",
     "text": [
      "1 % done\n",
      "2 % done\n",
      "3 % done\n",
      "4 % done\n",
      "5 % done\n",
      "6 % done\n",
      "7 % done\n",
      "8 % done\n",
      "9 % done\n",
      "10 % done\n",
      "11 % done\n",
      "12 % done\n",
      "13 % done\n",
      "14 % done\n",
      "15 % done\n",
      "16 % done\n",
      "17 % done\n",
      "18 % done\n",
      "19 % done\n",
      "20 % done\n",
      "21 % done\n",
      "22 % done\n",
      "23 % done\n",
      "24 % done\n",
      "25 % done\n",
      "26 % done\n",
      "27 % done\n",
      "28 % done\n",
      "29 % done\n",
      "30 % done\n",
      "31 % done\n",
      "32 % done\n",
      "33 % done\n",
      "34 % done\n",
      "35 % done\n",
      "36 % done\n",
      "37 % done\n",
      "38 % done\n",
      "39 % done\n",
      "40 % done\n",
      "41 % done\n",
      "42 % done\n",
      "43 % done\n",
      "44 % done\n",
      "45 % done\n",
      "46 % done\n",
      "47 % done\n",
      "48 % done\n",
      "49 % done\n",
      "50 % done\n",
      "51 % done\n",
      "52 % done\n",
      "53 % done\n",
      "54 % done\n",
      "55 % done\n",
      "56 % done\n",
      "57 % done\n",
      "58 % done\n",
      "59 % done\n",
      "60 % done\n",
      "61 % done\n",
      "62 % done\n",
      "63 % done\n",
      "64 % done\n",
      "65 % done\n",
      "66 % done\n",
      "67 % done\n",
      "68 % done\n",
      "69 % done\n",
      "70 % done\n",
      "71 % done\n",
      "72 % done\n",
      "73 % done\n",
      "74 % done\n",
      "75 % done\n",
      "76 % done\n",
      "77 % done\n",
      "78 % done\n",
      "79 % done\n",
      "80 % done\n",
      "81 % done\n",
      "82 % done\n",
      "83 % done\n",
      "84 % done\n",
      "85 % done\n",
      "86 % done\n",
      "87 % done\n",
      "88 % done\n",
      "89 % done\n",
      "90 % done\n",
      "91 % done\n",
      "92 % done\n",
      "93 % done\n",
      "94 % done\n",
      "95 % done\n",
      "96 % done\n",
      "97 % done\n",
      "98 % done\n",
      "99 % done\n",
      "100 % done\n",
      "The time taken  is  167.98935270309448\n"
     ]
    }
   ],
   "source": [
    "start_time = time.time()\n",
    "dataframes = []\n",
    "count = 1\n",
    "for s in symbol_list_one:\n",
    "    print(count, \"% done\")\n",
    "    count = count + 1\n",
    "    dataset_query = \"\"\"\n",
    "    select * from stockdatadaily where name = '%s'\n",
    "    \"\"\" % (s)\n",
    "    dataframes.append(pd.read_sql(dataset_query,engine))\n",
    "print(\"The time taken  is \", time.time() - start_time)"
   ]
  },
  {
   "cell_type": "code",
   "execution_count": 17,
   "metadata": {},
   "outputs": [
    {
     "name": "stdout",
     "output_type": "stream",
     "text": [
      "The time taken is  1.7638580799102783\n"
     ]
    }
   ],
   "source": [
    "timing = \"\"\"\n",
    "select * from stockdatadaily where name = 'AAPL'\n",
    "\"\"\"\n",
    "start_time = time.time()\n",
    "data = pd.read_sql(timing, engine)\n",
    "print(\"The time taken is \", time.time() - start_time)"
   ]
  },
  {
   "cell_type": "code",
   "execution_count": 10,
   "metadata": {},
   "outputs": [
    {
     "name": "stdout",
     "output_type": "stream",
     "text": [
      "The size of 100 symbols is 47712097.0\n"
     ]
    }
   ],
   "source": [
    "size = 0.0\n",
    "sizeOfData = 0.0\n",
    "for i in dataframes:\n",
    "    sizeOfData = sys.getsizeof(i)\n",
    "    size = size + sizeOfData\n",
    "print(\"The size of 100 symbols is\", size)"
   ]
  },
  {
   "cell_type": "code",
   "execution_count": 7,
   "metadata": {},
   "outputs": [
    {
     "data": {
      "text/plain": [
       "100"
      ]
     },
     "execution_count": 7,
     "metadata": {},
     "output_type": "execute_result"
    }
   ],
   "source": [
    "len(dataframes)"
   ]
  },
  {
   "cell_type": "code",
   "execution_count": null,
   "metadata": {},
   "outputs": [],
   "source": []
  }
 ],
 "metadata": {
  "kernelspec": {
   "display_name": "Python 3",
   "language": "python",
   "name": "python3"
  },
  "language_info": {
   "codemirror_mode": {
    "name": "ipython",
    "version": 3
   },
   "file_extension": ".py",
   "mimetype": "text/x-python",
   "name": "python",
   "nbconvert_exporter": "python",
   "pygments_lexer": "ipython3",
   "version": "3.6.4"
  }
 },
 "nbformat": 4,
 "nbformat_minor": 2
}
